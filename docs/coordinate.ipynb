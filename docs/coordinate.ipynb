{
 "cells": [
  {
   "cell_type": "code",
   "execution_count": 1,
   "metadata": {},
   "outputs": [],
   "source": [
    "# 3D world coordinate system:\n",
    "#     - face x\n",
    "#     - left y\n",
    "#     - up z\n",
    "\n",
    "\n",
    "#                     z                      \n",
    "#                     |                    \n",
    "#                     |                   \n",
    "#                     |                  \n",
    "#                     |     x            \n",
    "#                     |    /              \n",
    "#                     |   /                 \n",
    "#                     |  /                   \n",
    "#                     | /                    \n",
    "#    y________________|/                      \n",
    "#                       o          \n",
    "\n",
    "# 2D map coordinate system\n",
    "#   agent pose dafiinition: (x, y, theta:[0, 2pi])\n",
    "#\n",
    "#         x1\n",
    "#    0________________x                      \n",
    "#    |    |               \n",
    "#    |    |              \n",
    "# y1 |----a --------             \n",
    "#    |      -           \n",
    "#    |        -     theta     \n",
    "#    |          -          \n",
    "#    |            >         \n",
    "#    |                      \n",
    "#    y\n",
    "#\n",
    "\n",
    "# Simple map - world coordinate system conversion\n",
    "#\n",
    "# void Costmap2D::mapToWorld(unsigned int mx, unsigned int my, double & wx, double & wy) const\n",
    "# {\n",
    "#   wx = origin_x_ + (mx + 0.5) * resolution_;\n",
    "#   wy = origin_y_ + (my + 0.5) * resolution_;\n",
    "# }\n",
    "\n",
    "# bool Costmap2D::worldToMap(double wx, double wy, unsigned int & mx, unsigned int & my) const\n",
    "# {\n",
    "#   mx = static_cast<unsigned int>((wx - origin_x_) / resolution_);\n",
    "#   my = static_cast<unsigned int>((wy - origin_y_) / resolution_);\n",
    "# }\n",
    "\n",
    "\n",
    "# octomap\n",
    "#          z            \n",
    "#         /              \n",
    "#        /                 \n",
    "#       /                   \n",
    "#      /                    \n",
    "#     /________________ x                     \n",
    "#    | o          \n",
    "#    |                      \n",
    "#    |                    \n",
    "#    |                   \n",
    "#    y                  \n",
    "\n",
    "\n",
    "# GridMap in SLAM\n",
    "\n",
    "#         map_x\n",
    "#       0________________z                      \n",
    "#       |    |               \n",
    "#       |    |              \n",
    "#map_y  |----a --------             \n",
    "#       |      -           \n",
    "#       |        -     theta     \n",
    "#       |          -          \n",
    "#       |            >         \n",
    "#       |                      \n",
    "#       x\n",
    "#"
   ]
  },
  {
   "cell_type": "markdown",
   "metadata": {},
   "source": [
    "# example"
   ]
  },
  {
   "cell_type": "code",
   "execution_count": 2,
   "metadata": {},
   "outputs": [],
   "source": [
    "from HomeAssis.mapping.object_map_aux.cg_agent_aux import matrix_to_quaternion, build_rotation\n",
    "import math\n",
    "import torch\n",
    "import numpy as np"
   ]
  },
  {
   "cell_type": "code",
   "execution_count": 3,
   "metadata": {},
   "outputs": [
    {
     "data": {
      "text/plain": [
       "[[-0.984807753012208, 0.17364817766693047, 0],\n",
       " [-0.17364817766693047, -0.984807753012208, 0],\n",
       " [0, 0, 1]]"
      ]
     },
     "execution_count": 3,
     "metadata": {},
     "output_type": "execute_result"
    }
   ],
   "source": [
    "# matrix to rotate around z-axis with x degree\n",
    "import math\n",
    "def get_matrix(x):\n",
    "    return [\n",
    "            [math.cos(x), -math.sin(x), 0], \n",
    "            [math.sin(x), math.cos(x), 0], \n",
    "            [0, 0, 1]\n",
    "            ]\n",
    "\n",
    "matrix = get_matrix(math.radians(190))\n",
    "matrix"
   ]
  },
  {
   "cell_type": "code",
   "execution_count": 4,
   "metadata": {},
   "outputs": [
    {
     "data": {
      "text/plain": [
       "tensor([-0.0872,  0.0000,  0.0000,  0.9962], dtype=torch.float64)"
      ]
     },
     "execution_count": 4,
     "metadata": {},
     "output_type": "execute_result"
    }
   ],
   "source": [
    "a = matrix_to_quaternion(torch.tensor(np.array(matrix)))\n",
    "a"
   ]
  },
  {
   "cell_type": "code",
   "execution_count": 5,
   "metadata": {},
   "outputs": [
    {
     "data": {
      "text/plain": [
       "tensor([[[-0.9848,  0.1736,  0.0000],\n",
       "         [-0.1736, -0.9848,  0.0000],\n",
       "         [ 0.0000,  0.0000,  1.0000]]], device='cuda:0')"
      ]
     },
     "execution_count": 5,
     "metadata": {},
     "output_type": "execute_result"
    }
   ],
   "source": [
    "build_rotation(a[None, :])"
   ]
  },
  {
   "cell_type": "code",
   "execution_count": 6,
   "metadata": {},
   "outputs": [
    {
     "data": {
      "text/plain": [
       "-170.0"
      ]
     },
     "execution_count": 6,
     "metadata": {},
     "output_type": "execute_result"
    }
   ],
   "source": [
    "def get_yaw(q):\n",
    "    qw, qx, qy, qz = q[0], q[1], q[2], q[3]\n",
    "    sqw = qw * qw\n",
    "    sqx = qx * qx\n",
    "    sqy = qy * qy\n",
    "    sqz = qz * qz\n",
    "\n",
    "    sarg = -2 * (qx*qz - qw*qy) / (sqx + sqy + sqz + sqw)\n",
    "    if sarg <= -0.99999:\n",
    "        yaw = -2 * math.atan2(qy, qx)\n",
    "    elif sarg >= 0.99999:\n",
    "        yaw = 2 * math.atan2(qy, qx)\n",
    "    else:\n",
    "        yaw = math.atan2(2 * (qx*qy + qw*qz), sqw + sqx - sqy - sqz)\n",
    "    \n",
    "    return yaw\n",
    "\n",
    "math.degrees(get_yaw(a))"
   ]
  },
  {
   "cell_type": "code",
   "execution_count": 12,
   "metadata": {},
   "outputs": [],
   "source": [
    "def yaw_to_quat(yaw):\n",
    "  halfYaw = yaw * 0.5\n",
    "  return (math.cos(halfYaw), 0, 0, math.sin(halfYaw))\n"
   ]
  },
  {
   "cell_type": "code",
   "execution_count": 13,
   "metadata": {},
   "outputs": [
    {
     "data": {
      "text/plain": [
       "(tensor([-0.0872,  0.0000,  0.0000,  0.9962], dtype=torch.float64),\n",
       " -2.9670597283903604,\n",
       " -170.0)"
      ]
     },
     "execution_count": 13,
     "metadata": {},
     "output_type": "execute_result"
    }
   ],
   "source": [
    "a, get_yaw(a), math.degrees(get_yaw(a))"
   ]
  },
  {
   "cell_type": "code",
   "execution_count": 14,
   "metadata": {},
   "outputs": [
    {
     "data": {
      "text/plain": [
       "(0.08715574274765814, 0, 0, -0.9961946980917455)"
      ]
     },
     "execution_count": 14,
     "metadata": {},
     "output_type": "execute_result"
    }
   ],
   "source": [
    "yaw_to_quat(get_yaw(a))"
   ]
  },
  {
   "cell_type": "code",
   "execution_count": 16,
   "metadata": {},
   "outputs": [
    {
     "data": {
      "text/plain": [
       "(-170.0, -2.9670597283903604)"
      ]
     },
     "execution_count": 16,
     "metadata": {},
     "output_type": "execute_result"
    }
   ],
   "source": [
    "tmp = get_yaw(yaw_to_quat(get_yaw(a)))\n",
    "np.degrees(tmp), tmp"
   ]
  },
  {
   "cell_type": "code",
   "execution_count": null,
   "metadata": {},
   "outputs": [],
   "source": []
  }
 ],
 "metadata": {
  "kernelspec": {
   "display_name": "playground",
   "language": "python",
   "name": "python3"
  },
  "language_info": {
   "codemirror_mode": {
    "name": "ipython",
    "version": 3
   },
   "file_extension": ".py",
   "mimetype": "text/x-python",
   "name": "python",
   "nbconvert_exporter": "python",
   "pygments_lexer": "ipython3",
   "version": "3.10.13"
  }
 },
 "nbformat": 4,
 "nbformat_minor": 2
}
